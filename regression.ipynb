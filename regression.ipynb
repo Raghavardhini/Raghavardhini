{
  "nbformat": 4,
  "nbformat_minor": 0,
  "metadata": {
    "colab": {
      "provenance": [],
      "authorship_tag": "ABX9TyPnHYAd7PyZGl4yYI8CJUu8",
      "include_colab_link": true
    },
    "kernelspec": {
      "name": "python3",
      "display_name": "Python 3"
    },
    "language_info": {
      "name": "python"
    }
  },
  "cells": [
    {
      "cell_type": "markdown",
      "metadata": {
        "id": "view-in-github",
        "colab_type": "text"
      },
      "source": [
        "<a href=\"https://colab.research.google.com/github/Raghavardhini/Raghavardhini/blob/main/regression.ipynb\" target=\"_parent\"><img src=\"https://colab.research.google.com/assets/colab-badge.svg\" alt=\"Open In Colab\"/></a>"
      ]
    },
    {
      "cell_type": "code",
      "execution_count": null,
      "metadata": {
        "id": "7ZeteemTNqsG"
      },
      "outputs": [],
      "source": [
        "import pandas as pd\n",
        "import numpy as np\n",
        "import matplotlib.pyplot as plt"
      ]
    },
    {
      "cell_type": "code",
      "source": [
        "data=pd.read_csv('/content/2014.csv')\n",
        "print(data)"
      ],
      "metadata": {
        "colab": {
          "base_uri": "https://localhost:8080/"
        },
        "id": "JPHXivbyN3II",
        "outputId": "8aff68f6-1b55-43bb-c2eb-fbbd86fd565f"
      },
      "execution_count": null,
      "outputs": [
        {
          "output_type": "stream",
          "name": "stdout",
          "text": [
            "                 Company Name  Net Sales  Cons PAT  Cons OCF\n",
            "0            3I Infotech Ltd.       1344      -976       -51\n",
            "1               3M India Ltd.       1840       108       177\n",
            "2       Aavas Financiers Ltd.        104        19      -370\n",
            "3              ABB India Ltd.       7733       229       479\n",
            "4           Abbott India Ltd.       2289       229       215\n",
            "..                        ...        ...       ...       ...\n",
            "151          Wabco India Ltd.       1348       121       124\n",
            "152   Whirlpool Of India Ltd.       3294       211       300\n",
            "153               Wintac Ltd.         29        -6         6\n",
            "154  Xchanging Solutions Ltd.        287        25         1\n",
            "155     Zim Laboratories Ltd.        266       -22         6\n",
            "\n",
            "[156 rows x 4 columns]\n"
          ]
        }
      ]
    },
    {
      "cell_type": "code",
      "source": [
        "data.head()"
      ],
      "metadata": {
        "colab": {
          "base_uri": "https://localhost:8080/",
          "height": 206
        },
        "id": "ZMgZk_FgOC6y",
        "outputId": "94418443-9862-4b26-e21f-a66e55989ac8"
      },
      "execution_count": null,
      "outputs": [
        {
          "output_type": "execute_result",
          "data": {
            "text/plain": [
              "            Company Name  Net Sales  Cons PAT  Cons OCF\n",
              "0       3I Infotech Ltd.       1344      -976       -51\n",
              "1          3M India Ltd.       1840       108       177\n",
              "2  Aavas Financiers Ltd.        104        19      -370\n",
              "3         ABB India Ltd.       7733       229       479\n",
              "4      Abbott India Ltd.       2289       229       215"
            ],
            "text/html": [
              "\n",
              "  <div id=\"df-0251f1de-a152-4c4b-bed6-ea2914801de3\" class=\"colab-df-container\">\n",
              "    <div>\n",
              "<style scoped>\n",
              "    .dataframe tbody tr th:only-of-type {\n",
              "        vertical-align: middle;\n",
              "    }\n",
              "\n",
              "    .dataframe tbody tr th {\n",
              "        vertical-align: top;\n",
              "    }\n",
              "\n",
              "    .dataframe thead th {\n",
              "        text-align: right;\n",
              "    }\n",
              "</style>\n",
              "<table border=\"1\" class=\"dataframe\">\n",
              "  <thead>\n",
              "    <tr style=\"text-align: right;\">\n",
              "      <th></th>\n",
              "      <th>Company Name</th>\n",
              "      <th>Net Sales</th>\n",
              "      <th>Cons PAT</th>\n",
              "      <th>Cons OCF</th>\n",
              "    </tr>\n",
              "  </thead>\n",
              "  <tbody>\n",
              "    <tr>\n",
              "      <th>0</th>\n",
              "      <td>3I Infotech Ltd.</td>\n",
              "      <td>1344</td>\n",
              "      <td>-976</td>\n",
              "      <td>-51</td>\n",
              "    </tr>\n",
              "    <tr>\n",
              "      <th>1</th>\n",
              "      <td>3M India Ltd.</td>\n",
              "      <td>1840</td>\n",
              "      <td>108</td>\n",
              "      <td>177</td>\n",
              "    </tr>\n",
              "    <tr>\n",
              "      <th>2</th>\n",
              "      <td>Aavas Financiers Ltd.</td>\n",
              "      <td>104</td>\n",
              "      <td>19</td>\n",
              "      <td>-370</td>\n",
              "    </tr>\n",
              "    <tr>\n",
              "      <th>3</th>\n",
              "      <td>ABB India Ltd.</td>\n",
              "      <td>7733</td>\n",
              "      <td>229</td>\n",
              "      <td>479</td>\n",
              "    </tr>\n",
              "    <tr>\n",
              "      <th>4</th>\n",
              "      <td>Abbott India Ltd.</td>\n",
              "      <td>2289</td>\n",
              "      <td>229</td>\n",
              "      <td>215</td>\n",
              "    </tr>\n",
              "  </tbody>\n",
              "</table>\n",
              "</div>\n",
              "    <div class=\"colab-df-buttons\">\n",
              "\n",
              "  <div class=\"colab-df-container\">\n",
              "    <button class=\"colab-df-convert\" onclick=\"convertToInteractive('df-0251f1de-a152-4c4b-bed6-ea2914801de3')\"\n",
              "            title=\"Convert this dataframe to an interactive table.\"\n",
              "            style=\"display:none;\">\n",
              "\n",
              "  <svg xmlns=\"http://www.w3.org/2000/svg\" height=\"24px\" viewBox=\"0 -960 960 960\">\n",
              "    <path d=\"M120-120v-720h720v720H120Zm60-500h600v-160H180v160Zm220 220h160v-160H400v160Zm0 220h160v-160H400v160ZM180-400h160v-160H180v160Zm440 0h160v-160H620v160ZM180-180h160v-160H180v160Zm440 0h160v-160H620v160Z\"/>\n",
              "  </svg>\n",
              "    </button>\n",
              "\n",
              "  <style>\n",
              "    .colab-df-container {\n",
              "      display:flex;\n",
              "      gap: 12px;\n",
              "    }\n",
              "\n",
              "    .colab-df-convert {\n",
              "      background-color: #E8F0FE;\n",
              "      border: none;\n",
              "      border-radius: 50%;\n",
              "      cursor: pointer;\n",
              "      display: none;\n",
              "      fill: #1967D2;\n",
              "      height: 32px;\n",
              "      padding: 0 0 0 0;\n",
              "      width: 32px;\n",
              "    }\n",
              "\n",
              "    .colab-df-convert:hover {\n",
              "      background-color: #E2EBFA;\n",
              "      box-shadow: 0px 1px 2px rgba(60, 64, 67, 0.3), 0px 1px 3px 1px rgba(60, 64, 67, 0.15);\n",
              "      fill: #174EA6;\n",
              "    }\n",
              "\n",
              "    .colab-df-buttons div {\n",
              "      margin-bottom: 4px;\n",
              "    }\n",
              "\n",
              "    [theme=dark] .colab-df-convert {\n",
              "      background-color: #3B4455;\n",
              "      fill: #D2E3FC;\n",
              "    }\n",
              "\n",
              "    [theme=dark] .colab-df-convert:hover {\n",
              "      background-color: #434B5C;\n",
              "      box-shadow: 0px 1px 3px 1px rgba(0, 0, 0, 0.15);\n",
              "      filter: drop-shadow(0px 1px 2px rgba(0, 0, 0, 0.3));\n",
              "      fill: #FFFFFF;\n",
              "    }\n",
              "  </style>\n",
              "\n",
              "    <script>\n",
              "      const buttonEl =\n",
              "        document.querySelector('#df-0251f1de-a152-4c4b-bed6-ea2914801de3 button.colab-df-convert');\n",
              "      buttonEl.style.display =\n",
              "        google.colab.kernel.accessAllowed ? 'block' : 'none';\n",
              "\n",
              "      async function convertToInteractive(key) {\n",
              "        const element = document.querySelector('#df-0251f1de-a152-4c4b-bed6-ea2914801de3');\n",
              "        const dataTable =\n",
              "          await google.colab.kernel.invokeFunction('convertToInteractive',\n",
              "                                                    [key], {});\n",
              "        if (!dataTable) return;\n",
              "\n",
              "        const docLinkHtml = 'Like what you see? Visit the ' +\n",
              "          '<a target=\"_blank\" href=https://colab.research.google.com/notebooks/data_table.ipynb>data table notebook</a>'\n",
              "          + ' to learn more about interactive tables.';\n",
              "        element.innerHTML = '';\n",
              "        dataTable['output_type'] = 'display_data';\n",
              "        await google.colab.output.renderOutput(dataTable, element);\n",
              "        const docLink = document.createElement('div');\n",
              "        docLink.innerHTML = docLinkHtml;\n",
              "        element.appendChild(docLink);\n",
              "      }\n",
              "    </script>\n",
              "  </div>\n",
              "\n",
              "\n",
              "<div id=\"df-43284aca-a048-4674-9e4f-dd3ed79b9aea\">\n",
              "  <button class=\"colab-df-quickchart\" onclick=\"quickchart('df-43284aca-a048-4674-9e4f-dd3ed79b9aea')\"\n",
              "            title=\"Suggest charts\"\n",
              "            style=\"display:none;\">\n",
              "\n",
              "<svg xmlns=\"http://www.w3.org/2000/svg\" height=\"24px\"viewBox=\"0 0 24 24\"\n",
              "     width=\"24px\">\n",
              "    <g>\n",
              "        <path d=\"M19 3H5c-1.1 0-2 .9-2 2v14c0 1.1.9 2 2 2h14c1.1 0 2-.9 2-2V5c0-1.1-.9-2-2-2zM9 17H7v-7h2v7zm4 0h-2V7h2v10zm4 0h-2v-4h2v4z\"/>\n",
              "    </g>\n",
              "</svg>\n",
              "  </button>\n",
              "\n",
              "<style>\n",
              "  .colab-df-quickchart {\n",
              "      --bg-color: #E8F0FE;\n",
              "      --fill-color: #1967D2;\n",
              "      --hover-bg-color: #E2EBFA;\n",
              "      --hover-fill-color: #174EA6;\n",
              "      --disabled-fill-color: #AAA;\n",
              "      --disabled-bg-color: #DDD;\n",
              "  }\n",
              "\n",
              "  [theme=dark] .colab-df-quickchart {\n",
              "      --bg-color: #3B4455;\n",
              "      --fill-color: #D2E3FC;\n",
              "      --hover-bg-color: #434B5C;\n",
              "      --hover-fill-color: #FFFFFF;\n",
              "      --disabled-bg-color: #3B4455;\n",
              "      --disabled-fill-color: #666;\n",
              "  }\n",
              "\n",
              "  .colab-df-quickchart {\n",
              "    background-color: var(--bg-color);\n",
              "    border: none;\n",
              "    border-radius: 50%;\n",
              "    cursor: pointer;\n",
              "    display: none;\n",
              "    fill: var(--fill-color);\n",
              "    height: 32px;\n",
              "    padding: 0;\n",
              "    width: 32px;\n",
              "  }\n",
              "\n",
              "  .colab-df-quickchart:hover {\n",
              "    background-color: var(--hover-bg-color);\n",
              "    box-shadow: 0 1px 2px rgba(60, 64, 67, 0.3), 0 1px 3px 1px rgba(60, 64, 67, 0.15);\n",
              "    fill: var(--button-hover-fill-color);\n",
              "  }\n",
              "\n",
              "  .colab-df-quickchart-complete:disabled,\n",
              "  .colab-df-quickchart-complete:disabled:hover {\n",
              "    background-color: var(--disabled-bg-color);\n",
              "    fill: var(--disabled-fill-color);\n",
              "    box-shadow: none;\n",
              "  }\n",
              "\n",
              "  .colab-df-spinner {\n",
              "    border: 2px solid var(--fill-color);\n",
              "    border-color: transparent;\n",
              "    border-bottom-color: var(--fill-color);\n",
              "    animation:\n",
              "      spin 1s steps(1) infinite;\n",
              "  }\n",
              "\n",
              "  @keyframes spin {\n",
              "    0% {\n",
              "      border-color: transparent;\n",
              "      border-bottom-color: var(--fill-color);\n",
              "      border-left-color: var(--fill-color);\n",
              "    }\n",
              "    20% {\n",
              "      border-color: transparent;\n",
              "      border-left-color: var(--fill-color);\n",
              "      border-top-color: var(--fill-color);\n",
              "    }\n",
              "    30% {\n",
              "      border-color: transparent;\n",
              "      border-left-color: var(--fill-color);\n",
              "      border-top-color: var(--fill-color);\n",
              "      border-right-color: var(--fill-color);\n",
              "    }\n",
              "    40% {\n",
              "      border-color: transparent;\n",
              "      border-right-color: var(--fill-color);\n",
              "      border-top-color: var(--fill-color);\n",
              "    }\n",
              "    60% {\n",
              "      border-color: transparent;\n",
              "      border-right-color: var(--fill-color);\n",
              "    }\n",
              "    80% {\n",
              "      border-color: transparent;\n",
              "      border-right-color: var(--fill-color);\n",
              "      border-bottom-color: var(--fill-color);\n",
              "    }\n",
              "    90% {\n",
              "      border-color: transparent;\n",
              "      border-bottom-color: var(--fill-color);\n",
              "    }\n",
              "  }\n",
              "</style>\n",
              "\n",
              "  <script>\n",
              "    async function quickchart(key) {\n",
              "      const quickchartButtonEl =\n",
              "        document.querySelector('#' + key + ' button');\n",
              "      quickchartButtonEl.disabled = true;  // To prevent multiple clicks.\n",
              "      quickchartButtonEl.classList.add('colab-df-spinner');\n",
              "      try {\n",
              "        const charts = await google.colab.kernel.invokeFunction(\n",
              "            'suggestCharts', [key], {});\n",
              "      } catch (error) {\n",
              "        console.error('Error during call to suggestCharts:', error);\n",
              "      }\n",
              "      quickchartButtonEl.classList.remove('colab-df-spinner');\n",
              "      quickchartButtonEl.classList.add('colab-df-quickchart-complete');\n",
              "    }\n",
              "    (() => {\n",
              "      let quickchartButtonEl =\n",
              "        document.querySelector('#df-43284aca-a048-4674-9e4f-dd3ed79b9aea button');\n",
              "      quickchartButtonEl.style.display =\n",
              "        google.colab.kernel.accessAllowed ? 'block' : 'none';\n",
              "    })();\n",
              "  </script>\n",
              "</div>\n",
              "\n",
              "    </div>\n",
              "  </div>\n"
            ],
            "application/vnd.google.colaboratory.intrinsic+json": {
              "type": "dataframe",
              "variable_name": "data",
              "summary": "{\n  \"name\": \"data\",\n  \"rows\": 156,\n  \"fields\": [\n    {\n      \"column\": \"Company Name\",\n      \"properties\": {\n        \"dtype\": \"string\",\n        \"num_unique_values\": 156,\n        \"samples\": [\n          \"Mahindra CIE Automotive Ltd.\",\n          \"Hinduja Foundries Ltd. - (Amalgamated)\",\n          \"Jagatjit Industries Ltd.\"\n        ],\n        \"semantic_type\": \"\",\n        \"description\": \"\"\n      }\n    },\n    {\n      \"column\": \"Net Sales\",\n      \"properties\": {\n        \"dtype\": \"number\",\n        \"std\": 8413,\n        \"min\": 6,\n        \"max\": 73710,\n        \"num_unique_values\": 155,\n        \"samples\": [\n          1719,\n          183,\n          3982\n        ],\n        \"semantic_type\": \"\",\n        \"description\": \"\"\n      }\n    },\n    {\n      \"column\": \"Cons PAT\",\n      \"properties\": {\n        \"dtype\": \"number\",\n        \"std\": 1750,\n        \"min\": -15646,\n        \"max\": 9663,\n        \"num_unique_values\": 127,\n        \"samples\": [\n          4480,\n          122,\n          26\n        ],\n        \"semantic_type\": \"\",\n        \"description\": \"\"\n      }\n    },\n    {\n      \"column\": \"Cons OCF\",\n      \"properties\": {\n        \"dtype\": \"number\",\n        \"std\": 1925,\n        \"min\": -1520,\n        \"max\": 17805,\n        \"num_unique_values\": 129,\n        \"samples\": [\n          611,\n          2,\n          85\n        ],\n        \"semantic_type\": \"\",\n        \"description\": \"\"\n      }\n    }\n  ]\n}"
            }
          },
          "metadata": {},
          "execution_count": 42
        }
      ]
    },
    {
      "cell_type": "code",
      "source": [
        "data.plot.scatter(x='Net Sales', y='Cons PAT');"
      ],
      "metadata": {
        "colab": {
          "base_uri": "https://localhost:8080/",
          "height": 449
        },
        "id": "4Um9TCctPAFO",
        "outputId": "eca1065e-2bbd-4625-d070-0934484806de"
      },
      "execution_count": null,
      "outputs": [
        {
          "output_type": "display_data",
          "data": {
            "text/plain": [
              "<Figure size 640x480 with 1 Axes>"
            ],
            "image/png": "[encoded data removed]"
          },
          "metadata": {}
        }
      ]
    },
    {
      "cell_type": "code",
      "source": [
        "data.shape"
      ],
      "metadata": {
        "colab": {
          "base_uri": "https://localhost:8080/"
        },
        "id": "x3zMJFzEPMCp",
        "outputId": "b8c5c466-471a-4ef5-b634-8e9029ef012b"
      },
      "execution_count": null,
      "outputs": [
        {
          "output_type": "execute_result",
          "data": {
            "text/plain": [
              "(156, 4)"
            ]
          },
          "metadata": {},
          "execution_count": 44
        }
      ]
    },
    {
      "cell_type": "code",
      "source": [
        "x=data['Net Sales'].values.reshape(-1,1)\n",
        "y=data['Cons PAT'].values.reshape(-1,1)#depending"
      ],
      "metadata": {
        "id": "_xoBWWmmPRTk"
      },
      "execution_count": null,
      "outputs": []
    },
    {
      "cell_type": "code",
      "source": [
        "x.shape"
      ],
      "metadata": {
        "colab": {
          "base_uri": "https://localhost:8080/"
        },
        "id": "2mywN_O5PmlN",
        "outputId": "d5eef5ff-cb9f-4fa1-8911-1d57295f1511"
      },
      "execution_count": null,
      "outputs": [
        {
          "output_type": "execute_result",
          "data": {
            "text/plain": [
              "(156, 1)"
            ]
          },
          "metadata": {},
          "execution_count": 46
        }
      ]
    },
    {
      "cell_type": "code",
      "source": [
        "SEED = 30"
      ],
      "metadata": {
        "id": "_ylyV6EiPqaE"
      },
      "execution_count": null,
      "outputs": []
    },
    {
      "cell_type": "code",
      "source": [
        "from sklearn.model_selection import train_test_split\n",
        "x_train, x_test, y_train, y_test = train_test_split(x, y, test_size = 0.2, random_state = 30)"
      ],
      "metadata": {
        "id": "io17R7jvPu3w"
      },
      "execution_count": null,
      "outputs": []
    },
    {
      "cell_type": "code",
      "source": [
        "print(x_train)\n",
        "print(y_train)"
      ],
      "metadata": {
        "colab": {
          "base_uri": "https://localhost:8080/"
        },
        "id": "Gb0uvrWdPzV5",
        "outputId": "c87144e8-400e-4855-ba5e-b7882e5e5551"
      },
      "execution_count": null,
      "outputs": [
        {
          "output_type": "stream",
          "name": "stdout",
          "text": [
            "[[   31]\n",
            " [  142]\n",
            " [ 2441]\n",
            " [ 1719]\n",
            " [  308]\n",
            " [ 4916]\n",
            " [  451]\n",
            " [    6]\n",
            " [  957]\n",
            " [ 3905]\n",
            " [ 3097]\n",
            " [  285]\n",
            " [73710]\n",
            " [10678]\n",
            " [  188]\n",
            " [   41]\n",
            " [  836]\n",
            " [  407]\n",
            " [  102]\n",
            " [ 5795]\n",
            " [   53]\n",
            " [  273]\n",
            " [ 1581]\n",
            " [ 3916]\n",
            " [ 5570]\n",
            " [ 2582]\n",
            " [  556]\n",
            " [  631]\n",
            " [ 2694]\n",
            " [  570]\n",
            " [ 1163]\n",
            " [ 1225]\n",
            " [ 2044]\n",
            " [50801]\n",
            " [ 3392]\n",
            " [  831]\n",
            " [ 2692]\n",
            " [ 3982]\n",
            " [ 2334]\n",
            " [ 3244]\n",
            " [  652]\n",
            " [  552]\n",
            " [14788]\n",
            " [  287]\n",
            " [ 1770]\n",
            " [ 3363]\n",
            " [  141]\n",
            " [  151]\n",
            " [  290]\n",
            " [ 2289]\n",
            " [   29]\n",
            " [  366]\n",
            " [  183]\n",
            " [  192]\n",
            " [  274]\n",
            " [ 1974]\n",
            " [  184]\n",
            " [  214]\n",
            " [  528]\n",
            " [ 1090]\n",
            " [ 1424]\n",
            " [  641]\n",
            " [  656]\n",
            " [ 1545]\n",
            " [  602]\n",
            " [ 2567]\n",
            " [ 1580]\n",
            " [ 1491]\n",
            " [ 1911]\n",
            " [ 1046]\n",
            " [ 1129]\n",
            " [ 1632]\n",
            " [  563]\n",
            " [12086]\n",
            " [  219]\n",
            " [ 9855]\n",
            " [  999]\n",
            " [  263]\n",
            " [ 2272]\n",
            " [  722]\n",
            " [ 3723]\n",
            " [ 7827]\n",
            " [ 4708]\n",
            " [ 1421]\n",
            " [ 1253]\n",
            " [ 2527]\n",
            " [ 1004]\n",
            " [ 1977]\n",
            " [ 1638]\n",
            " [  266]\n",
            " [  341]\n",
            " [  873]\n",
            " [ 2095]\n",
            " [ 1010]\n",
            " [  201]\n",
            " [ 4308]\n",
            " [ 1737]\n",
            " [  544]\n",
            " [ 1543]\n",
            " [ 2124]\n",
            " [ 2099]\n",
            " [  232]\n",
            " [ 9974]\n",
            " [  730]\n",
            " [ 1135]\n",
            " [  384]\n",
            " [14646]\n",
            " [ 1583]\n",
            " [ 2414]\n",
            " [  224]\n",
            " [ 1853]\n",
            " [  929]\n",
            " [  517]\n",
            " [  967]\n",
            " [  867]\n",
            " [  891]\n",
            " [  546]\n",
            " [ 9335]\n",
            " [ 2476]\n",
            " [  350]\n",
            " [ 1348]\n",
            " [  301]\n",
            " [ 4917]\n",
            " [ 1422]]\n",
            "[[     4]\n",
            " [   -11]\n",
            " [   238]\n",
            " [    19]\n",
            " [    19]\n",
            " [   772]\n",
            " [    53]\n",
            " [    -5]\n",
            " [  -139]\n",
            " [  1192]\n",
            " [    -3]\n",
            " [     6]\n",
            " [-15646]\n",
            " [   603]\n",
            " [   -22]\n",
            " [     9]\n",
            " [   152]\n",
            " [     5]\n",
            " [    21]\n",
            " [   675]\n",
            " [    26]\n",
            " [   -20]\n",
            " [    12]\n",
            " [   103]\n",
            " [   -78]\n",
            " [   320]\n",
            " [   106]\n",
            " [    39]\n",
            " [   231]\n",
            " [    34]\n",
            " [     0]\n",
            " [    67]\n",
            " [    60]\n",
            " [  3807]\n",
            " [   475]\n",
            " [   -43]\n",
            " [  -216]\n",
            " [   559]\n",
            " [   346]\n",
            " [    90]\n",
            " [    59]\n",
            " [    24]\n",
            " [  8178]\n",
            " [    25]\n",
            " [   308]\n",
            " [   476]\n",
            " [   -27]\n",
            " [   -14]\n",
            " [   -60]\n",
            " [   229]\n",
            " [    -6]\n",
            " [    20]\n",
            " [    45]\n",
            " [     0]\n",
            " [   -71]\n",
            " [   158]\n",
            " [    18]\n",
            " [    22]\n",
            " [   149]\n",
            " [    35]\n",
            " [   114]\n",
            " [    22]\n",
            " [    66]\n",
            " [   -53]\n",
            " [    22]\n",
            " [    69]\n",
            " [    40]\n",
            " [     5]\n",
            " [  -459]\n",
            " [   943]\n",
            " [    88]\n",
            " [   153]\n",
            " [    68]\n",
            " [  1338]\n",
            " [    -3]\n",
            " [  1185]\n",
            " [  -262]\n",
            " [    25]\n",
            " [   129]\n",
            " [   -31]\n",
            " [   383]\n",
            " [  1066]\n",
            " [   160]\n",
            " [   247]\n",
            " [   268]\n",
            " [   186]\n",
            " [   -56]\n",
            " [   264]\n",
            " [    34]\n",
            " [   -22]\n",
            " [    32]\n",
            " [    79]\n",
            " [   301]\n",
            " [    42]\n",
            " [    47]\n",
            " [   584]\n",
            " [   113]\n",
            " [     5]\n",
            " [   196]\n",
            " [   177]\n",
            " [    42]\n",
            " [   -51]\n",
            " [  1487]\n",
            " [    70]\n",
            " [   103]\n",
            " [     2]\n",
            " [  4480]\n",
            " [   101]\n",
            " [   203]\n",
            " [    61]\n",
            " [    70]\n",
            " [    81]\n",
            " [   -21]\n",
            " [    77]\n",
            " [    43]\n",
            " [    15]\n",
            " [    61]\n",
            " [ -1688]\n",
            " [    48]\n",
            " [   122]\n",
            " [   121]\n",
            " [    26]\n",
            " [   252]\n",
            " [   191]]\n"
          ]
        }
      ]
    },
    {
      "cell_type": "code",
      "source": [
        "from sklearn.linear_model import LinearRegression\n",
        "regressor = LinearRegression()"
      ],
      "metadata": {
        "id": "hvWHt3-KP2MR"
      },
      "execution_count": null,
      "outputs": []
    },
    {
      "cell_type": "code",
      "source": [
        "regressor.fit(x_train, y_train)"
      ],
      "metadata": {
        "colab": {
          "base_uri": "https://localhost:8080/",
          "height": 75
        },
        "id": "h3F5M3g7P4-r",
        "outputId": "0088788f-ea7a-40b1-e6bb-5a0a9a0136df"
      },
      "execution_count": null,
      "outputs": [
        {
          "output_type": "execute_result",
          "data": {
            "text/plain": [
              "LinearRegression()"
            ],
            "text/html": [
              "<style>#sk-container-id-4 {color: black;background-color: white;}#sk-container-id-4 pre{padding: 0;}#sk-container-id-4 div.sk-toggleable {background-color: white;}#sk-container-id-4 label.sk-toggleable__label {cursor: pointer;display: block;width: 100%;margin-bottom: 0;padding: 0.3em;box-sizing: border-box;text-align: center;}#sk-container-id-4 label.sk-toggleable__label-arrow:before {content: \"▸\";float: left;margin-right: 0.25em;color: #696969;}#sk-container-id-4 label.sk-toggleable__label-arrow:hover:before {color: black;}#sk-container-id-4 div.sk-estimator:hover label.sk-toggleable__label-arrow:before {color: black;}#sk-container-id-4 div.sk-toggleable__content {max-height: 0;max-width: 0;overflow: hidden;text-align: left;background-color: #f0f8ff;}#sk-container-id-4 div.sk-toggleable__content pre {margin: 0.2em;color: black;border-radius: 0.25em;background-color: #f0f8ff;}#sk-container-id-4 input.sk-toggleable__control:checked~div.sk-toggleable__content {max-height: 200px;max-width: 100%;overflow: auto;}#sk-container-id-4 input.sk-toggleable__control:checked~label.sk-toggleable__label-arrow:before {content: \"▾\";}#sk-container-id-4 div.sk-estimator input.sk-toggleable__control:checked~label.sk-toggleable__label {background-color: #d4ebff;}#sk-container-id-4 div.sk-label input.sk-toggleable__control:checked~label.sk-toggleable__label {background-color: #d4ebff;}#sk-container-id-4 input.sk-hidden--visually {border: 0;clip: rect(1px 1px 1px 1px);clip: rect(1px, 1px, 1px, 1px);height: 1px;margin: -1px;overflow: hidden;padding: 0;position: absolute;width: 1px;}#sk-container-id-4 div.sk-estimator {font-family: monospace;background-color: #f0f8ff;border: 1px dotted black;border-radius: 0.25em;box-sizing: border-box;margin-bottom: 0.5em;}#sk-container-id-4 div.sk-estimator:hover {background-color: #d4ebff;}#sk-container-id-4 div.sk-parallel-item::after {content: \"\";width: 100%;border-bottom: 1px solid gray;flex-grow: 1;}#sk-container-id-4 div.sk-label:hover label.sk-toggleable__label {background-color: #d4ebff;}#sk-container-id-4 div.sk-serial::before {content: \"\";position: absolute;border-left: 1px solid gray;box-sizing: border-box;top: 0;bottom: 0;left: 50%;z-index: 0;}#sk-container-id-4 div.sk-serial {display: flex;flex-direction: column;align-items: center;background-color: white;padding-right: 0.2em;padding-left: 0.2em;position: relative;}#sk-container-id-4 div.sk-item {position: relative;z-index: 1;}#sk-container-id-4 div.sk-parallel {display: flex;align-items: stretch;justify-content: center;background-color: white;position: relative;}#sk-container-id-4 div.sk-item::before, #sk-container-id-4 div.sk-parallel-item::before {content: \"\";position: absolute;border-left: 1px solid gray;box-sizing: border-box;top: 0;bottom: 0;left: 50%;z-index: -1;}#sk-container-id-4 div.sk-parallel-item {display: flex;flex-direction: column;z-index: 1;position: relative;background-color: white;}#sk-container-id-4 div.sk-parallel-item:first-child::after {align-self: flex-end;width: 50%;}#sk-container-id-4 div.sk-parallel-item:last-child::after {align-self: flex-start;width: 50%;}#sk-container-id-4 div.sk-parallel-item:only-child::after {width: 0;}#sk-container-id-4 div.sk-dashed-wrapped {border: 1px dashed gray;margin: 0 0.4em 0.5em 0.4em;box-sizing: border-box;padding-bottom: 0.4em;background-color: white;}#sk-container-id-4 div.sk-label label {font-family: monospace;font-weight: bold;display: inline-block;line-height: 1.2em;}#sk-container-id-4 div.sk-label-container {text-align: center;}#sk-container-id-4 div.sk-container {/* jupyter's `normalize.less` sets `[hidden] { display: none; }` but bootstrap.min.css set `[hidden] { display: none !important; }` so we also need the `!important` here to be able to override the default hidden behavior on the sphinx rendered scikit-learn.org. See: https://github.com/scikit-learn/scikit-learn/issues/21755 */display: inline-block !important;position: relative;}#sk-container-id-4 div.sk-text-repr-fallback {display: none;}</style><div id=\"sk-container-id-4\" class=\"sk-top-container\"><div class=\"sk-text-repr-fallback\"><pre>LinearRegression()</pre><b>In a Jupyter environment, please rerun this cell to show the HTML representation or trust the notebook. <br />On GitHub, the HTML representation is unable to render, please try loading this page with nbviewer.org.</b></div><div class=\"sk-container\" hidden><div class=\"sk-item\"><div class=\"sk-estimator sk-toggleable\"><input class=\"sk-toggleable__control sk-hidden--visually\" id=\"sk-estimator-id-4\" type=\"checkbox\" checked><label for=\"sk-estimator-id-4\" class=\"sk-toggleable__label sk-toggleable__label-arrow\">LinearRegression</label><div class=\"sk-toggleable__content\"><pre>LinearRegression()</pre></div></div></div></div></div>"
            ]
          },
          "metadata": {},
          "execution_count": 51
        }
      ]
    },
    {
      "cell_type": "code",
      "source": [
        "y_pred = regressor.predict(x_test)"
      ],
      "metadata": {
        "id": "YYGb05gHP8Cj"
      },
      "execution_count": null,
      "outputs": []
    },
    {
      "cell_type": "code",
      "source": [
        "df_preds = pd.DataFrame({'Actual': y_test.squeeze(), 'Predicted': y_pred.squeeze()})\n",
        "print(df_preds)"
      ],
      "metadata": {
        "colab": {
          "base_uri": "https://localhost:8080/"
        },
        "id": "n0EHz7WqP-5p",
        "outputId": "d0a780a7-5f67-46ca-d234-eeafc61c8267"
      },
      "execution_count": null,
      "outputs": [
        {
          "output_type": "stream",
          "name": "stdout",
          "text": [
            "    Actual    Predicted\n",
            "0        4   326.274229\n",
            "1     9663 -3075.930497\n",
            "2     4363 -2460.486468\n",
            "3       37   338.470118\n",
            "4        7   396.221241\n",
            "5       33   361.965140\n",
            "6       67   379.451893\n",
            "7        6   396.759295\n",
            "8        1   389.047188\n",
            "9      229  -286.838234\n",
            "10      19   223.685278\n",
            "11    -233   361.696113\n",
            "12      49   382.590541\n",
            "13     -67   -15.390022\n",
            "14      33   385.191135\n",
            "15     274    84.957038\n",
            "16   -2097 -1526.873210\n",
            "17     211   111.232005\n",
            "18     133   256.685920\n",
            "19     108   241.620409\n",
            "20      78   265.563810\n",
            "21       7   401.063726\n",
            "22       7   394.696755\n",
            "23       8   395.952214\n",
            "24      12   397.476700\n",
            "25    -976   286.099535\n",
            "26      78   348.513792\n",
            "27      11   298.923154\n",
            "28     114   191.043339\n",
            "29      53   378.824163\n",
            "30      35   343.312604\n",
            "31      19   397.297349\n"
          ]
        }
      ]
    },
    {
      "cell_type": "code",
      "source": [
        "from sklearn.metrics import mean_absolute_error, mean_squared_error\n",
        "mae = mean_absolute_error(y_test, y_pred)\n",
        "mse = mean_squared_error(y_test, y_pred)\n",
        "rmse = np.sqrt(mse)"
      ],
      "metadata": {
        "id": "XdOqau4lQCcP"
      },
      "execution_count": null,
      "outputs": []
    },
    {
      "cell_type": "code",
      "source": [
        "print(f'Mean absolute error: {mae:.2f}')\n",
        "print(f'Mean squared error: {mse:.2f}')\n",
        "print(f'Root mean squared error: {rmse:.2f}')"
      ],
      "metadata": {
        "colab": {
          "base_uri": "https://localhost:8080/"
        },
        "id": "2aGoRZcHQGyn",
        "outputId": "df3dadac-fe87-484a-ac09-c3fd33680f00"
      },
      "execution_count": null,
      "outputs": [
        {
          "output_type": "stream",
          "name": "stdout",
          "text": [
            "Mean absolute error: 931.79\n",
            "Mean squared error: 6679322.02\n",
            "Root mean squared error: 2584.44\n"
          ]
        }
      ]
    },
    {
      "cell_type": "code",
      "source": [
        "plt.figure(figsize=(12,10))\n",
        "plt.plot(x,y,'ro')     # regression line\n",
        "plt.plot(x_test,y_pred)   # scatter plot showing actual data\n",
        "plt.title('Actual vs Predicted')\n",
        "plt.xlabel('X')\n",
        "plt.ylabel('y')\n",
        "plt.show()"
      ],
      "metadata": {
        "colab": {
          "base_uri": "https://localhost:8080/",
          "height": 872
        },
        "id": "kMoqzOSyQI_-",
        "outputId": "513505e9-160a-4142-c324-89b66e36a298"
      },
      "execution_count": null,
      "outputs": [
        {
          "output_type": "display_data",
          "data": {
            "text/plain": [
              "<Figure size 1200x1000 with 1 Axes>"
            ],
            "image/png": "[encoded data removed]"
          },
          "metadata": {}
        }
      ]
    }
  ]
}