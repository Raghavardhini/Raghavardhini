{
  "nbformat": 4,
  "nbformat_minor": 0,
  "metadata": {
    "colab": {
      "provenance": [],
      "authorship_tag": "ABX9TyPmJld6fucJEOse3SAri5+x",
      "include_colab_link": true
    },
    "kernelspec": {
      "name": "python3",
      "display_name": "Python 3"
    },
    "language_info": {
      "name": "python"
    }
  },
  "cells": [
    {
      "cell_type": "markdown",
      "metadata": {
        "id": "view-in-github",
        "colab_type": "text"
      },
      "source": [
        "<a href=\"https://colab.research.google.com/github/Raghavardhini/Raghavardhini/blob/main/qlearningalgorithm.ipynb\" target=\"_parent\"><img src=\"https://colab.research.google.com/assets/colab-badge.svg\" alt=\"Open In Colab\"/></a>"
      ]
    },
    {
      "cell_type": "code",
      "source": [
        "import numpy as np\n",
        "class Qlearning:\n",
        "  def __init__(self,num,ac,lr=0.1,ds=0.1,epsion=0.1):\n",
        "    self.num=num\n",
        "    self.ac=ac\n",
        "    self.lr=lr\n",
        "    self.ds=ds\n",
        "    self.epsion=epsion\n",
        "    self.weights =np.zeros((ac,num))\n",
        "  def select_action(self,state):\n",
        "    if np.random.rand()<self.epsion:\n",
        "      return np.random.choice(self.ac)\n",
        "    else:\n",
        "      return np.argmax(np.dot(self.weights,state))\n",
        "  def update_weights(self,state,action,reward,next_state):\n",
        "    target = reward + self.ds * np.max(np.dot(self.weights,\n",
        "next_state))\n",
        "    predicted = np.dot(self.weights[action], state)\n",
        "    error = target - predicted\n",
        "    self.weights[action] += self.lr * error * state\n",
        "num=3\n",
        "ac=2\n",
        "q1 = Qlearning(num, ac)\n",
        "epi=5\n",
        "for episo in range(epi):\n",
        "  state = np.random.rand(num)\n",
        "  done = False\n",
        "  tot=0\n",
        "  while not done:\n",
        "    action = q1.select_action(state)\n",
        "    next_state = np.random.rand(num)\n",
        "    reward = np.random.randn()\n",
        "    done=np.random.rand()<0.1\n",
        "    q1.update_weights(state,action,reward,next_state)\n",
        "    state=next_state\n",
        "    tot+=reward\n",
        "  print(\"Episode:\",episo,\"Total Reward:\",tot)\n"
      ],
      "metadata": {
        "id": "oFxhsNzO7aUi",
        "colab": {
          "base_uri": "https://localhost:8080/"
        },
        "outputId": "e80d5b75-858b-4dd0-dc35-84660204671c"
      },
      "execution_count": 27,
      "outputs": [
        {
          "output_type": "stream",
          "name": "stdout",
          "text": [
            "Episode: 0 Total Reward: -0.7659153877664586\n",
            "Episode: 1 Total Reward: -8.271324477051616\n",
            "Episode: 2 Total Reward: -0.07863256638985061\n",
            "Episode: 3 Total Reward: -2.5057704530548195\n",
            "Episode: 4 Total Reward: -0.3854153153952613\n"
          ]
        }
      ]
    }
  ]
}