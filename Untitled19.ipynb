{
  "nbformat": 4,
  "nbformat_minor": 0,
  "metadata": {
    "colab": {
      "provenance": [],
      "authorship_tag": "ABX9TyOgyaurGuO+0gpdih2YZgKT",
      "include_colab_link": true
    },
    "kernelspec": {
      "name": "python3",
      "display_name": "Python 3"
    },
    "language_info": {
      "name": "python"
    }
  },
  "cells": [
    {
      "cell_type": "markdown",
      "metadata": {
        "id": "view-in-github",
        "colab_type": "text"
      },
      "source": [
        "<a href=\"https://colab.research.google.com/github/Raghavardhini/Raghavardhini/blob/main/Untitled19.ipynb\" target=\"_parent\"><img src=\"https://colab.research.google.com/assets/colab-badge.svg\" alt=\"Open In Colab\"/></a>"
      ]
    },
    {
      "cell_type": "code",
      "execution_count": 5,
      "metadata": {
        "id": "BXjxrt79zeXF"
      },
      "outputs": [],
      "source": [
        "import numpy as np"
      ]
    },
    {
      "cell_type": "code",
      "source": [
        "class Qlearning:\n",
        "  def __init__(self,num,ac,lr=0.1,ds=0.1,epsion=0.1):\n",
        "    self.num=num\n",
        "    self.ac=ac\n",
        "    self.lr=lr\n",
        "    self.ds=ds\n",
        "    self.epsion=epsion\n",
        "    self.weights =np.zeros((ac,num))\n",
        "  def select_action(self,state):\n",
        "    if np.random.rand()<self.epsion:\n",
        "      return np.random.choice(self.ac)\n",
        "    else:\n",
        "      return np.argmax(np.dot(self.weights,state))\n",
        "  def update_weights(self,state,action,reward,next_state):\n",
        "    target = reward + self.ds * np.max(np.dot(self.weights,\n",
        "next_state))\n",
        "    predicted = np.dot(self.weights[action], state)\n",
        "    error = target - predicted\n",
        "    self.weights[action] += self.lr * error * state\n",
        "num=3\n",
        "ac=2\n",
        "q1 = Qlearning(num, ac)\n",
        "epi=5\n",
        "for episo in range(epi):\n",
        "  state = np.random.rand(num)\n",
        "  done = False\n",
        "  tot=0\n",
        "  while not done:\n",
        "    action = q1.select_action(state)\n",
        "    next_state = np.random.rand(num)\n",
        "    reward = np.random.randn()\n",
        "    done=np.random.rand()<0.1\n",
        "    q1.update_weights(state,action,reward,next_state)\n",
        "    state=next_state\n",
        "    tot+=reward\n",
        "  print(\"Episode:\",episo,\"Total Reward:\",tot)\n"
      ],
      "metadata": {
        "id": "oFxhsNzO7aUi",
        "colab": {
          "base_uri": "https://localhost:8080/"
        },
        "outputId": "1620c06f-717c-45a4-b075-f86b6c50989a"
      },
      "execution_count": 26,
      "outputs": [
        {
          "output_type": "stream",
          "name": "stdout",
          "text": [
            "Episode: 0 Total Reward: 3.4786212713070905\n",
            "Episode: 1 Total Reward: -3.348045439225178\n",
            "Episode: 2 Total Reward: -3.285151045251312\n",
            "Episode: 3 Total Reward: -0.2979087591736531\n",
            "Episode: 4 Total Reward: -0.883023690990447\n"
          ]
        }
      ]
    }
  ]
}