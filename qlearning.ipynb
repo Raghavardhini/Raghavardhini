{
  "nbformat": 4,
  "nbformat_minor": 0,
  "metadata": {
    "colab": {
      "provenance": [],
      "authorship_tag": "ABX9TyOltUZJ6TVhj/3EZMnZlTS7",
      "include_colab_link": true
    },
    "kernelspec": {
      "name": "python3",
      "display_name": "Python 3"
    },
    "language_info": {
      "name": "python"
    }
  },
  "cells": [
    {
      "cell_type": "markdown",
      "metadata": {
        "id": "view-in-github",
        "colab_type": "text"
      },
      "source": [
        "<a href=\"https://colab.research.google.com/github/Raghavardhini/Raghavardhini/blob/main/qlearning.ipynb\" target=\"_parent\"><img src=\"https://colab.research.google.com/assets/colab-badge.svg\" alt=\"Open In Colab\"/></a>"
      ]
    },
    {
      "cell_type": "code",
      "execution_count": 5,
      "metadata": {
        "id": "BXjxrt79zeXF"
      },
      "outputs": [],
      "source": [
        "import numpy as np"
      ]
    },
    {
      "cell_type": "code",
      "source": [
        "class Qlearning:\n",
        "  def __init__(self,num,ac,lr=0.1,ds=0.1,epsion=0.1):\n",
        "    self.num=num\n",
        "    self.ac=ac\n",
        "    self.lr=lr\n",
        "    self.ds=ds\n",
        "    self.epsion=epsion\n",
        "    self.weights =np.zeros((ac,num))\n",
        "  def select_action(self,state):\n",
        "    if np.random.rand()<self.epsion:\n",
        "      return np.random.choice(self.ac)\n",
        "    else:\n",
        "      return np.argmax(np.dot(self.weights,state))\n",
        "  def update_weights(self,state,action,reward,next_state):\n",
        "    target = reward + self.ds * np.max(np.dot(self.weights,\n",
        "next_state))\n",
        "    predicted = np.dot(self.weights[action], state)\n",
        "    error = target - predicted\n",
        "    self.weights[action] += self.lr * error * state\n",
        "num=3\n",
        "ac=2\n",
        "q1 = Qlearning(num, ac)\n",
        "epi=5\n",
        "for episo in range(epi):\n",
        "  state = np.random.rand(num)\n",
        "  done = False\n",
        "  tot=0\n",
        "  while not done:\n",
        "    action = q1.select_action(state)\n",
        "    next_state = np.random.rand(num)\n",
        "    reward = np.random.randn()\n",
        "    done=np.random.rand()<0.1\n",
        "    q1.update_weights(state,action,reward,next_state)\n",
        "    state=next_state\n",
        "    tot+=reward\n",
        "  print(\"Episode:\",episo,\"Total Reward:\",tot)\n"
      ],
      "metadata": {
        "id": "oFxhsNzO7aUi",
        "colab": {
          "base_uri": "https://localhost:8080/"
        },
        "outputId": "c0edfa9f-7d23-4af6-b8b3-678f816e246f"
      },
      "execution_count": 25,
      "outputs": [
        {
          "output_type": "stream",
          "name": "stdout",
          "text": [
            "Episode: 0 Total Reward: 3.0120995083347584\n",
            "Episode: 1 Total Reward: -1.3700725165286645\n",
            "Episode: 2 Total Reward: -2.6288609578808724\n",
            "Episode: 3 Total Reward: 0.19639174444497198\n",
            "Episode: 4 Total Reward: -0.29190656021026107\n"
          ]
        }
      ]
    },
    {
      "cell_type": "code",
      "source": [],
      "metadata": {
        "id": "tHmXqG9N7aeh"
      },
      "execution_count": 6,
      "outputs": []
    },
    {
      "cell_type": "code",
      "source": [
        "\n",
        ""
      ],
      "metadata": {
        "id": "sLg_ASEq7an5"
      },
      "execution_count": 10,
      "outputs": []
    },
    {
      "cell_type": "code",
      "source": [],
      "metadata": {
        "colab": {
          "base_uri": "https://localhost:8080/",
          "height": 211
        },
        "id": "wtiUWUimAj2z",
        "outputId": "097dad1e-0221-4bf4-a501-4f909acf4554"
      },
      "execution_count": 16,
      "outputs": [
        {
          "output_type": "error",
          "ename": "AttributeError",
          "evalue": "'Qlearning' object has no attribute 'select_action'",
          "traceback": [
            "\u001b[0;31m---------------------------------------------------------------------------\u001b[0m",
            "\u001b[0;31mAttributeError\u001b[0m                            Traceback (most recent call last)",
            "\u001b[0;32m<ipython-input-16-90e69f916375>\u001b[0m in \u001b[0;36m<cell line: 1>\u001b[0;34m()\u001b[0m\n\u001b[1;32m      1\u001b[0m \u001b[0;32mwhile\u001b[0m \u001b[0;32mnot\u001b[0m \u001b[0mdone\u001b[0m\u001b[0;34m:\u001b[0m\u001b[0;34m\u001b[0m\u001b[0;34m\u001b[0m\u001b[0m\n\u001b[0;32m----> 2\u001b[0;31m   \u001b[0maction1\u001b[0m \u001b[0;34m=\u001b[0m \u001b[0mq1\u001b[0m\u001b[0;34m.\u001b[0m\u001b[0mselect_action\u001b[0m\u001b[0;34m(\u001b[0m\u001b[0mstate\u001b[0m\u001b[0;34m)\u001b[0m\u001b[0;34m\u001b[0m\u001b[0;34m\u001b[0m\u001b[0m\n\u001b[0m\u001b[1;32m      3\u001b[0m   \u001b[0mnext_state\u001b[0m \u001b[0;34m=\u001b[0m \u001b[0mnp\u001b[0m\u001b[0;34m.\u001b[0m\u001b[0mrandom\u001b[0m\u001b[0;34m.\u001b[0m\u001b[0mrand\u001b[0m\u001b[0;34m(\u001b[0m\u001b[0mnum\u001b[0m\u001b[0;34m)\u001b[0m\u001b[0;34m\u001b[0m\u001b[0;34m\u001b[0m\u001b[0m\n\u001b[1;32m      4\u001b[0m   \u001b[0mreward\u001b[0m \u001b[0;34m=\u001b[0m \u001b[0mnp\u001b[0m\u001b[0;34m.\u001b[0m\u001b[0mrandom\u001b[0m\u001b[0;34m.\u001b[0m\u001b[0mrandn\u001b[0m\u001b[0;34m(\u001b[0m\u001b[0;34m)\u001b[0m\u001b[0;34m\u001b[0m\u001b[0;34m\u001b[0m\u001b[0m\n\u001b[1;32m      5\u001b[0m   \u001b[0mdone\u001b[0m\u001b[0;34m=\u001b[0m\u001b[0mnp\u001b[0m\u001b[0;34m.\u001b[0m\u001b[0mrandom\u001b[0m\u001b[0;34m.\u001b[0m\u001b[0mrand\u001b[0m\u001b[0;34m(\u001b[0m\u001b[0;34m)\u001b[0m\u001b[0;34m<\u001b[0m\u001b[0;36m0.1\u001b[0m\u001b[0;34m\u001b[0m\u001b[0;34m\u001b[0m\u001b[0m\n",
            "\u001b[0;31mAttributeError\u001b[0m: 'Qlearning' object has no attribute 'select_action'"
          ]
        }
      ]
    }
  ]
}